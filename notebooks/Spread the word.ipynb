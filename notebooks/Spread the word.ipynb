{
 "cells": [
  {
   "cell_type": "markdown",
   "metadata": {
    "slideshow": {
     "slide_type": "slide"
    }
   },
   "source": [
    "# Sesión Seminario TIC 10 de mayo 2019\n",
    "\n",
    "> Si os animáis, id instalando [anaconda](https://repo.anaconda.com/archive/Anaconda3-2019.03-Windows-x86_64.exe)."
   ]
  },
  {
   "cell_type": "markdown",
   "metadata": {
    "lang": "es",
    "slideshow": {
     "slide_type": "slide"
    }
   },
   "source": [
    "# ¿Para qué aprender a progamar?\n",
    "\n",
    "### Que la máquina trabaje para tí, y no al revés\n",
    "\n",
    "* Automatizar tareas aburridas.\n",
    "* Resolver un problema difícil de análisis de datos.\n",
    "* Crear webs, apps... web apps.\n",
    "* Comunicad dispositivos a través del Internet Of Things.\n",
    "* Sacarle verdadero partido a la tecnología en nuestras respectivas áreas de conocimiento."
   ]
  },
  {
   "cell_type": "markdown",
   "metadata": {
    "slideshow": {
     "slide_type": "slide"
    }
   },
   "source": [
    "\"Ciertamente, la revolución agrícola amplió la suma total de alimento a disposición de la humanidad, pero el alimento adicional no se tradujo en una dieta mejor o en más ratos de ocio, sino en explosiones demográficas y élites consentidas. El agricultor medio trabajaba más duro que el cazador-recolector medio, y a cambio obtenía una dieta peor. La revolución agrícola fue el mayor fraude de la historia. ¿Quién fue el responsable? Ni reyes, ni sacerdotes, ni mercaderes. Los culpables fueron un puñado de especies de plantas, entre las que se cuentan el trigo, el arroz y las patatas. Fueron estas plantas las que domesticaron a Homo sapiens, y no al revés.\"\n",
    "\n",
    "_Harari, Yuval Noah. Sapiens. De animales a dioses: Una breve historia de la humanidad_"
   ]
  },
  {
   "cell_type": "markdown",
   "metadata": {
    "slideshow": {
     "slide_type": "slide"
    }
   },
   "source": [
    "#### Algo que me hizo pensar\n",
    "\n",
    "[![](img/encuesta-stackoverflow.png)](https://insights.stackoverflow.com/survey/2018/#developer-profile-_-how-much-time-do-developers-spend-on-a-computer)"
   ]
  },
  {
   "cell_type": "markdown",
   "metadata": {
    "slideshow": {
     "slide_type": "slide"
    }
   },
   "source": [
    "_Gran parte del material a continuación ha sido extraído del artículo [Everything About Python — Beginner To Advanced](https://medium.com/fintechexplained/everything-about-python-from-beginner-to-advance-level-227d52ef32d2) de Farhad Malik_ y del curso _[Python for Everybody](https://www.py4e.com/lessons)_"
   ]
  },
  {
   "cell_type": "markdown",
   "metadata": {
    "slideshow": {
     "slide_type": "slide"
    }
   },
   "source": [
    "# Introducción a Python\n",
    "\n",
    "## ¿Qué es Python?\n",
    "\n",
    "- Lenguaje de programación **interpretado** de **alto nivel orientado a objetos**.\n",
    "- El intérprete de Python, lee una línea de código a la vez, lo interpreta en lenguaje de máquina de bajo nivel (código de bytes) y luego lo ejecuta.\n",
    "- Como resultado, generalmente se encuentran **errores de tiempo de ejecución**."
   ]
  },
  {
   "cell_type": "markdown",
   "metadata": {
    "heading_collapsed": true,
    "slideshow": {
     "slide_type": "slide"
    }
   },
   "source": [
    "## ¿Por qué Python?\n",
    "\n",
    "![Lenguages de programación](img/languages.png)\n",
    "\n",
    "- Python es el lenguaje _más popular_ **(muy popular)** debido a que es más fácil codificarlo y entenderlo.\n",
    "- Python es un lenguaje de programación **orientado a objetos** y se puede usar para escribir **código funcional también**.\n",
    "- **Lleva menos tiempo** llevar un programa Python al mercado en comparación con otros lenguajes como C# o Java.\n",
    "- Además, hay una **gran cantidad de librearías** de análisis de datos y de machine learning desarrolados en Python.\n",
    "- Una **gran cantidad de comunidades y libros**. están disponibles para apoyar a los desarrolladores de Python.\n",
    "- En Python **se pueden implementar casi todo tipo de aplicaciones**, que van desde la previsión analítica al desarrollo de web apps."
   ]
  },
  {
   "cell_type": "markdown",
   "metadata": {
    "slideshow": {
     "slide_type": "slide"
    }
   },
   "source": [
    "## ¿Por qué no Python?\n",
    "\n",
    "- Python es más lento que C++, C#, Java.\n",
    "- La restricción sintáctica del espacio en blanco de Python hace que sea un poco difícil de implementar para los nuevos codificadores.\n",
    "- Python no es adecuado para niveles bajos -inivel del sistema y la interacción de hardware."
   ]
  },
  {
   "cell_type": "markdown",
   "metadata": {
    "slideshow": {
     "slide_type": "slide"
    }
   },
   "source": [
    "#### Mi versión de porqué no\n",
    "- Es un lenguaje de servidor. Para desarrollar la parte visual de las aplicaciones al final te viene bien saber algo de Javascript y ya que te pones, Javascript te vale tanto para servidor como para cliente. No obstante, Javascript es más complejo y le faltan muchas de las capacidades de Python."
   ]
  },
  {
   "cell_type": "markdown",
   "metadata": {
    "slideshow": {
     "slide_type": "slide"
    }
   },
   "source": [
    "# Variables\n",
    "\n",
    "- Las variables almacenan información que se puede usar en tu programa, por ejemplo, para mantener las entradas de los usuarios, los estados locales de tu programa, etc.\n",
    "- Python admite números, cadenas, conjuntos, listas, tuplas y diccionarios. Estos son los tipos de datos estándar.\n"
   ]
  },
  {
   "cell_type": "markdown",
   "metadata": {
    "slideshow": {
     "slide_type": "slide"
    }
   },
   "source": [
    "## Declarar y asignar valor a la variable\n",
    "\n",
    "La asignación establece un valor para una variable:"
   ]
  },
  {
   "cell_type": "code",
   "execution_count": null,
   "metadata": {
    "slideshow": {
     "slide_type": "fragment"
    }
   },
   "outputs": [],
   "source": [
    "mi_primera_variable = 1\n",
    "mi_segunda_variable = 2\n",
    "mi_primera_variable = \"Hola mundo\"\n",
    "print(mi_primera_variable)"
   ]
  },
  {
   "cell_type": "markdown",
   "metadata": {
    "slideshow": {
     "slide_type": "fragment"
    }
   },
   "source": [
    "- La asignación de un valor se conoce como **binding** en Python.\n",
    "\n",
    "**Observa cómo he asignado un valor entero de 1 y luego un valor de cadena de \"Hola, usted\" a la variable myFirstVariable.** Esto es posible debido al hecho de que los tipos de datos se escriben dinámicamente en python."
   ]
  },
  {
   "cell_type": "markdown",
   "metadata": {
    "slideshow": {
     "slide_type": "slide"
    }
   },
   "source": [
    "### Numérico\n",
    "- Se admiten enteros, decimales, flotantes."
   ]
  },
  {
   "cell_type": "code",
   "execution_count": null,
   "metadata": {
    "slideshow": {
     "slide_type": "fragment"
    }
   },
   "outputs": [],
   "source": [
    "value = 1 #integer\n",
    "value = 1.2 #float with a floating point"
   ]
  },
  {
   "cell_type": "markdown",
   "metadata": {
    "slideshow": {
     "slide_type": "fragment"
    }
   },
   "source": [
    "- También se admiten largos. Tienen un sufijo de L e.g. 9999999999999L"
   ]
  },
  {
   "cell_type": "markdown",
   "metadata": {
    "slideshow": {
     "slide_type": "slide"
    }
   },
   "source": [
    "### Comas en variables de números enteros.\n",
    "- Las comas se tratan como secuencia de variables:"
   ]
  },
  {
   "cell_type": "code",
   "execution_count": null,
   "metadata": {
    "slideshow": {
     "slide_type": "fragment"
    }
   },
   "outputs": [],
   "source": [
    "a, b, c = 9,8,7\n",
    "print(a)\n",
    "print(b)\n",
    "print(c)"
   ]
  },
  {
   "cell_type": "markdown",
   "metadata": {
    "slideshow": {
     "slide_type": "slide"
    }
   },
   "source": [
    "### Operaciones\n",
    "\n",
    "- Podemos realizar cálculos sobre variables.\n",
    "\n",
    "#### Operaciones Numéricas\n",
    "- Python es compatible con *, /, +, -"
   ]
  },
  {
   "cell_type": "code",
   "execution_count": null,
   "metadata": {
    "slideshow": {
     "slide_type": "fragment"
    }
   },
   "outputs": [],
   "source": [
    "1/3"
   ]
  },
  {
   "cell_type": "markdown",
   "metadata": {
    "slideshow": {
     "slide_type": "fragment"
    }
   },
   "source": [
    "- Python también es compatible con la división entera:"
   ]
  },
  {
   "cell_type": "code",
   "execution_count": null,
   "metadata": {
    "lang": "es",
    "slideshow": {
     "slide_type": "fragment"
    }
   },
   "outputs": [],
   "source": [
    "1//3"
   ]
  },
  {
   "cell_type": "markdown",
   "metadata": {
    "slideshow": {
     "slide_type": "slide"
    }
   },
   "source": [
    "Además, Python admite exponenciación a través del operador **:"
   ]
  },
  {
   "cell_type": "code",
   "execution_count": null,
   "metadata": {
    "slideshow": {
     "slide_type": "fragment"
    }
   },
   "outputs": [],
   "source": [
    "2 ** 3"
   ]
  },
  {
   "cell_type": "markdown",
   "metadata": {
    "slideshow": {
     "slide_type": "fragment"
    }
   },
   "source": [
    "- Python también es compatible con el operador Módulo (resto):"
   ]
  },
  {
   "cell_type": "code",
   "execution_count": null,
   "metadata": {
    "slideshow": {
     "slide_type": "fragment"
    }
   },
   "outputs": [],
   "source": [
    "7%2"
   ]
  },
  {
   "cell_type": "markdown",
   "metadata": {
    "slideshow": {
     "slide_type": "slide"
    }
   },
   "source": [
    "### Comprobando el tipo de una variable\n",
    "\n",
    "- Si quieres comprobar el tipo de una variable, puedes usar la función type():"
   ]
  },
  {
   "cell_type": "code",
   "execution_count": null,
   "metadata": {
    "slideshow": {
     "slide_type": "fragment"
    }
   },
   "outputs": [],
   "source": [
    "type('farhad')"
   ]
  },
  {
   "cell_type": "markdown",
   "metadata": {
    "slideshow": {
     "slide_type": "slide"
    }
   },
   "source": [
    "### Palabras reservadas\n",
    "\n",
    "```python\n",
    "and       del       from      None      True\n",
    "as        elif      global    nonlocal  try\n",
    "assert    else      if        not       while\n",
    "break     except    import    or        with\n",
    "class     False     in        pass      yield\n",
    "continue  finally   is        raise\n",
    "def       for       lambda    return\n",
    "```"
   ]
  },
  {
   "cell_type": "markdown",
   "metadata": {
    "slideshow": {
     "slide_type": "slide"
    }
   },
   "source": [
    "### Preguntando al usuario por la entrada"
   ]
  },
  {
   "cell_type": "code",
   "execution_count": null,
   "metadata": {
    "slideshow": {
     "slide_type": "fragment"
    }
   },
   "outputs": [],
   "source": [
    "name = input('¿cómo te llamas')\n",
    "print(name)"
   ]
  },
  {
   "cell_type": "markdown",
   "metadata": {
    "slideshow": {
     "slide_type": "slide"
    }
   },
   "source": [
    "### Comentarios\n",
    "\n",
    "Viene muy bien explicar qué hace nuestro código, aunque sea sólo para nosotros mismos en el futuro.\n",
    "\n",
    "Por esta razón, es una buena idea agregar notas a tus programas para explicar en lenguaje natural lo que está haciendo el programa. Estas notas se llaman comentarios, y en Python comienzan con el símbolo #:\n",
    "\n",
    "```python\n",
    "# compute the percentage of the hour that has elapsed\n",
    "percentage = (minute * 100) / 60\n",
    "```"
   ]
  },
  {
   "cell_type": "markdown",
   "metadata": {
    "slideshow": {
     "slide_type": "slide"
    }
   },
   "source": [
    "### Casting\n",
    "\n",
    "- str(x): a cadena\n",
    "- int(x): a entero\n",
    "- float(x): a decimal"
   ]
  },
  {
   "cell_type": "code",
   "execution_count": null,
   "metadata": {
    "slideshow": {
     "slide_type": "fragment"
    }
   },
   "outputs": [],
   "source": [
    "cadena = '2'\n",
    "2 + cadena"
   ]
  },
  {
   "cell_type": "markdown",
   "metadata": {
    "slideshow": {
     "slide_type": "slide"
    }
   },
   "source": [
    "# Condicionales\n",
    "\n",
    "Una expresión booleana es una expresión que es verdadera o falsa. Los siguientes ejemplos usan el operador ==, que compara dos operandos y produce True si son iguales y False de lo contrario:+"
   ]
  },
  {
   "cell_type": "code",
   "execution_count": null,
   "metadata": {
    "slideshow": {
     "slide_type": "fragment"
    }
   },
   "outputs": [],
   "source": [
    "5 == 5"
   ]
  },
  {
   "cell_type": "code",
   "execution_count": null,
   "metadata": {
    "slideshow": {
     "slide_type": "fragment"
    }
   },
   "outputs": [],
   "source": [
    "5 == 6"
   ]
  },
  {
   "cell_type": "markdown",
   "metadata": {
    "slideshow": {
     "slide_type": "fragment"
    }
   },
   "source": [
    "True y False son valores especiales que pertenecen a la clase bool; no son cadenas."
   ]
  },
  {
   "cell_type": "code",
   "execution_count": null,
   "metadata": {
    "slideshow": {
     "slide_type": "fragment"
    }
   },
   "outputs": [],
   "source": [
    "type(True)"
   ]
  },
  {
   "cell_type": "markdown",
   "metadata": {
    "slideshow": {
     "slide_type": "slide"
    }
   },
   "source": [
    "## Operadores\n",
    "\n",
    "El operador == es uno de los operadores de comparación; los otros son:\n",
    "\n",
    "```python\n",
    "      x != y               # x is not equal to y\n",
    "      x > y                # x is greater than y\n",
    "      x < y                # x is less than y\n",
    "      x >= y               # x is greater than or equal to y\n",
    "      x <= y               # x is less than or equal to y\n",
    "      x is y               # x is the same as y\n",
    "      x is not y           # x is not the same as y\n",
    "```"
   ]
  },
  {
   "cell_type": "markdown",
   "metadata": {
    "slideshow": {
     "slide_type": "slide"
    }
   },
   "source": [
    "## Operadores lógicos\n",
    "\n",
    "Hay tres operadores lógicos: and, or, y not. La semántica (significado) de estos operadores es similar a su significado en inglés. Por ejemplo,"
   ]
  },
  {
   "cell_type": "code",
   "execution_count": null,
   "metadata": {
    "slideshow": {
     "slide_type": "fragment"
    }
   },
   "outputs": [],
   "source": [
    "x > 0 and x < 10"
   ]
  },
  {
   "cell_type": "markdown",
   "metadata": {
    "slideshow": {
     "slide_type": "slide"
    }
   },
   "source": [
    "## Ejecución condicional"
   ]
  },
  {
   "cell_type": "code",
   "execution_count": null,
   "metadata": {
    "slideshow": {
     "slide_type": "fragment"
    }
   },
   "outputs": [],
   "source": [
    "x = 0\n",
    "y = 0\n",
    "\n",
    "if x < y:\n",
    "    print('x is less than y')\n",
    "elif x > y:\n",
    "    print('x is greater than y')\n",
    "else:\n",
    "    print('x and y are equal')"
   ]
  },
  {
   "cell_type": "markdown",
   "metadata": {
    "slideshow": {
     "slide_type": "slide"
    }
   },
   "source": [
    "## Condicionales anidados"
   ]
  },
  {
   "cell_type": "code",
   "execution_count": null,
   "metadata": {
    "slideshow": {
     "slide_type": "fragment"
    }
   },
   "outputs": [],
   "source": [
    "x = 0\n",
    "y = 0\n",
    "\n",
    "if x == y:\n",
    "    print('x and y are equal')\n",
    "else:\n",
    "    if x < y:\n",
    "        print('x is less than y')\n",
    "    else:\n",
    "        print('x is greater than y')"
   ]
  },
  {
   "cell_type": "markdown",
   "metadata": {
    "slideshow": {
     "slide_type": "slide"
    }
   },
   "source": [
    "## Capturando excepciones con `try` y `except`\n",
    "\n",
    "Si se produce un en una secuencia de comandos de Python, la secuencia de comandos se detiene inmediatamente dejando una traza de lo que se estaba ejecutando cuando el programa falló. No ejecuta la siguiente sentencia.\n",
    "\n",
    "Para evitar esto utilizamos los bloques `try` y `except`"
   ]
  },
  {
   "cell_type": "code",
   "execution_count": null,
   "metadata": {
    "slideshow": {
     "slide_type": "fragment"
    }
   },
   "outputs": [],
   "source": [
    "inp = input('Enter Fahrenheit Temperature: ')\n",
    "\n",
    "try:\n",
    "    fahr = float(inp)\n",
    "    cel = (fahr - 32.0) * 5.0 / 9.0\n",
    "    print(cel)\n",
    "except:\n",
    "    print('Tipo de dato equivocado')"
   ]
  },
  {
   "cell_type": "markdown",
   "metadata": {
    "slideshow": {
     "slide_type": "slide"
    }
   },
   "source": [
    "## Ejercicios\n",
    "\n",
    "### Ejercicio 1\n",
    "\n",
    "Escribe un programa que use input para pedirle a un usuario su nombre y luego le de la bienvenida.\n",
    "\n",
    "```bash\n",
    "Enter your name: Chuck\n",
    "Hello Chuck\n",
    "```"
   ]
  },
  {
   "cell_type": "code",
   "execution_count": null,
   "metadata": {
    "slideshow": {
     "slide_type": "fragment"
    }
   },
   "outputs": [],
   "source": []
  },
  {
   "cell_type": "markdown",
   "metadata": {
    "slideshow": {
     "slide_type": "slide"
    }
   },
   "source": [
    "### Ejercicio 2\n",
    "\n",
    "Escribe un programa para pedirle al usuario las horas y la tarifa por hora para calcular el pago bruto.\n",
    "\n",
    "```python\n",
    "Enter Hours: 35\n",
    "Enter Rate: 2.75\n",
    "Pay: 96.25\n",
    "```"
   ]
  },
  {
   "cell_type": "code",
   "execution_count": null,
   "metadata": {
    "slideshow": {
     "slide_type": "fragment"
    }
   },
   "outputs": [],
   "source": []
  },
  {
   "cell_type": "markdown",
   "metadata": {
    "slideshow": {
     "slide_type": "slide"
    }
   },
   "source": [
    "### Ejercicio 3\n",
    "\n",
    "Reescribe tu cálculo de pago para darle al empleado 1.5 veces la tarifa por hora por las horas trabajadas por encima de las 40 horas.\n",
    "\n",
    "```\n",
    "Enter Hours: 45\n",
    "Enter Rate: 10\n",
    "Pay: 475.0\n",
    "```"
   ]
  },
  {
   "cell_type": "code",
   "execution_count": null,
   "metadata": {
    "slideshow": {
     "slide_type": "fragment"
    }
   },
   "outputs": [],
   "source": []
  },
  {
   "cell_type": "markdown",
   "metadata": {
    "slideshow": {
     "slide_type": "slide"
    }
   },
   "source": [
    "# Funciones\n",
    "\n",
    "En el contexto de la programación, una función es una secuencia de instrucciones con nombre que realiza un cálculo. Cuando defines una función, especifica el nombre y la secuencia de instrucciones. Más tarde, puedes \"llamar\" a la función por su nombre. Ya hemos visto un ejemplo de una llamada a una función:\n",
    "\n",
    "```python\n",
    ">>> type(32)\n",
    "<class 'int'>\n",
    "```"
   ]
  },
  {
   "cell_type": "markdown",
   "metadata": {
    "slideshow": {
     "slide_type": "slide"
    }
   },
   "source": [
    "## Funciones incorporadas"
   ]
  },
  {
   "cell_type": "code",
   "execution_count": null,
   "metadata": {
    "slideshow": {
     "slide_type": "fragment"
    }
   },
   "outputs": [],
   "source": [
    "print(max('Hello world'))\n",
    "print(min('Hello world'))\n",
    "len('Hello world')"
   ]
  },
  {
   "cell_type": "markdown",
   "metadata": {
    "slideshow": {
     "slide_type": "slide"
    }
   },
   "source": [
    "## Importando librerías\n",
    "\n",
    "* [random](https://docs.python.org/3/library/random.html)\n",
    "* [math](https://docs.python.org/3/library/math.html)"
   ]
  },
  {
   "cell_type": "code",
   "execution_count": null,
   "metadata": {
    "slideshow": {
     "slide_type": "fragment"
    }
   },
   "outputs": [],
   "source": [
    "import random\n",
    "\n",
    "random.randint(4, 10)"
   ]
  },
  {
   "cell_type": "code",
   "execution_count": null,
   "metadata": {
    "slideshow": {
     "slide_type": "fragment"
    }
   },
   "outputs": [],
   "source": [
    "import math\n",
    "\n",
    "grados = 45\n",
    "radianes = grados / 360.0 * 2 * math.pi\n",
    "math.sin(radianes)"
   ]
  },
  {
   "cell_type": "code",
   "execution_count": null,
   "metadata": {
    "slideshow": {
     "slide_type": "fragment"
    }
   },
   "outputs": [],
   "source": [
    "math.sqrt(49)"
   ]
  },
  {
   "cell_type": "markdown",
   "metadata": {
    "slideshow": {
     "slide_type": "slide"
    }
   },
   "source": [
    "## Definiendo funciones\n",
    "\n",
    "¿Cómo encapsular en una función el siguiente código?"
   ]
  },
  {
   "cell_type": "code",
   "execution_count": null,
   "metadata": {
    "slideshow": {
     "slide_type": "fragment"
    }
   },
   "outputs": [],
   "source": [
    "import math\n",
    "\n",
    "grados = 45\n",
    "radianes = grados / 360.0 * 2 * math.pi\n",
    "print(radianes)"
   ]
  },
  {
   "cell_type": "markdown",
   "metadata": {
    "slideshow": {
     "slide_type": "slide"
    }
   },
   "source": [
    "### No reinventes la rueda"
   ]
  },
  {
   "cell_type": "code",
   "execution_count": null,
   "metadata": {
    "slideshow": {
     "slide_type": "fragment"
    }
   },
   "outputs": [],
   "source": [
    "grados = float(input('Introduce los grados: '))\n",
    "\n",
    "math.radians(grados)"
   ]
  },
  {
   "cell_type": "markdown",
   "metadata": {
    "slideshow": {
     "slide_type": "slide"
    }
   },
   "source": [
    "## Parámetros\n",
    "\n",
    "Algunas de las funciones incorporadas que hemos visto requieren argumentos. Por ejemplo, cuando llamas math.sin pasas un número como argumento. Algunas funciones toman más de un argumento: math.pow toma dos, la base y el exponente."
   ]
  },
  {
   "cell_type": "code",
   "execution_count": null,
   "metadata": {
    "slideshow": {
     "slide_type": "fragment"
    }
   },
   "outputs": [],
   "source": [
    "def addtwo(a, b):\n",
    "    added = a + b\n",
    "    return added\n",
    "\n",
    "x = addtwo(3, 5)\n",
    "print(x)"
   ]
  },
  {
   "cell_type": "markdown",
   "metadata": {
    "slideshow": {
     "slide_type": "slide"
    }
   },
   "source": [
    "## Funciones fructíferas y funciones nulas\n",
    "\n",
    "Algunas de las funciones que utilizamos, como las funciones matemáticas, producen resultados. A falta de un nombre mejor, las llamo funciones fructíferas. Otras funciones, como print_twice, realizan una acción pero no devuelven un valor. Se les llama funciones nulas (void functions)."
   ]
  },
  {
   "cell_type": "code",
   "execution_count": null,
   "metadata": {
    "slideshow": {
     "slide_type": "fragment"
    }
   },
   "outputs": [],
   "source": [
    "result = print('Bing')\n",
    "print(result)"
   ]
  },
  {
   "cell_type": "markdown",
   "metadata": {
    "slideshow": {
     "slide_type": "slide"
    }
   },
   "source": [
    "## ¿Para qué crear funciones?\n",
    "\n",
    "Puede que no esté claro por qué vale la pena dividir un programa en funciones. Hay varias razones:\n",
    "* La creación de una nueva función le brinda la oportunidad de nombrar un grupo de declaraciones, lo que hace que su programa sea más fácil de leer, comprender y depurar.\n",
    "* Las funciones pueden hacer que un programa sea más pequeño eliminando el código repetitivo. Más tarde, si realiza un cambio, solo tendrá que hacerlo en un lugar.\n",
    "* La división de un programa largo en funciones le permite depurar las partes una a la vez y luego ensamblarlas en un todo de trabajo.\n",
    "* Las funciones bien diseñadas suelen ser útiles para muchos programas. Una vez que escribes y depuras una, puedes reutilizarla."
   ]
  },
  {
   "cell_type": "markdown",
   "metadata": {
    "slideshow": {
     "slide_type": "slide"
    }
   },
   "source": [
    "### Las variables pueden tener ámbito local o global.\n",
    "\n",
    "#### Local Scope. Ámbito local.\n",
    "\n",
    "- Las variables declaradas dentro de una función, por ejemplo, solo pueden existir dentro del bloque.\n",
    "- Una vez que se sale del bloque, las variables se vuelven inaccesibles."
   ]
  },
  {
   "cell_type": "code",
   "execution_count": null,
   "metadata": {
    "slideshow": {
     "slide_type": "fragment"
    }
   },
   "outputs": [],
   "source": [
    "def some_funcion():\n",
    "  TestMode = False\n",
    "\n",
    "print(TestMode)"
   ]
  },
  {
   "cell_type": "markdown",
   "metadata": {
    "slideshow": {
     "slide_type": "slide"
    }
   },
   "source": [
    "En Python, if else y for/while loops block crean variables de ámbito global."
   ]
  },
  {
   "cell_type": "code",
   "execution_count": null,
   "metadata": {
    "slideshow": {
     "slide_type": "fragment"
    }
   },
   "outputs": [],
   "source": [
    "for i in range(1, 11):\n",
    "    test_scope = \"variable inside for loop\"\n",
    "    \n",
    "print(test_scope)"
   ]
  },
  {
   "cell_type": "markdown",
   "metadata": {
    "slideshow": {
     "slide_type": "slide"
    }
   },
   "source": [
    "Con el bloque if-else:"
   ]
  },
  {
   "cell_type": "code",
   "execution_count": null,
   "metadata": {
    "slideshow": {
     "slide_type": "fragment"
    }
   },
   "outputs": [],
   "source": [
    "is_python_awesome = True\n",
    "\n",
    "if is_python_awesome:\n",
    "    test_scope = \"Python is awesome\"\n",
    "\n",
    "print(test_scope)"
   ]
  },
  {
   "cell_type": "markdown",
   "metadata": {
    "slideshow": {
     "slide_type": "slide"
    }
   },
   "source": [
    "#### Global Scope. Ámbito global.\n",
    "\n",
    "- Las variables a las que se puede acceder desde cualquier función tienen un ámbito global.\n",
    "- Puedes declarar una variable global fuera de las funciones. Es importante tener en cuenta que para asignar un nuevo valor a una variable global, deberás utilizar la palabra clave “**global**”:"
   ]
  },
  {
   "cell_type": "code",
   "execution_count": null,
   "metadata": {
    "slideshow": {
     "slide_type": "fragment"
    }
   },
   "outputs": [],
   "source": [
    "TestMode = True\n",
    "\n",
    "def some_function():\n",
    "  global TestMode\n",
    "  TestMode = False\n",
    "    \n",
    "some_function()\n",
    "print(TestMode) # Returns False"
   ]
  },
  {
   "cell_type": "markdown",
   "metadata": {
    "slideshow": {
     "slide_type": "fragment"
    }
   },
   "source": [
    "> Al eliminar la línea \"global TestMode\" solo se establecerá la variable en False dentro de la función some_function()."
   ]
  },
  {
   "cell_type": "markdown",
   "metadata": {
    "slideshow": {
     "slide_type": "slide"
    }
   },
   "source": [
    "### Ejercicio 4\n",
    "\n",
    "Reescribe tu cálculo de pago con tiempo y medio para horas extras y crea una función llamada computepay que tome dos parámetros (hours y rate).\n",
    "\n",
    "```\n",
    "Enter Hours: 45\n",
    "Enter Rate: 10\n",
    "Pay: 475.0\n",
    "```"
   ]
  },
  {
   "cell_type": "code",
   "execution_count": null,
   "metadata": {
    "slideshow": {
     "slide_type": "fragment"
    }
   },
   "outputs": [],
   "source": []
  },
  {
   "cell_type": "markdown",
   "metadata": {
    "slideshow": {
     "slide_type": "slide"
    }
   },
   "source": [
    "# Bucles\n",
    "\n",
    "Los ordenadores se utilizan a menudo para automatizar tareas repetitivas. Repetir tareas idénticas o similares sin cometer errores es algo que a los ordenadores se les da muy bien y a las personas se les da muy mal. Debido a que la iteración es tan común, Python proporciona varias características de lenguaje para que sea más fácil."
   ]
  },
  {
   "cell_type": "markdown",
   "metadata": {
    "slideshow": {
     "slide_type": "slide"
    }
   },
   "source": [
    "## while loop"
   ]
  },
  {
   "cell_type": "code",
   "execution_count": null,
   "metadata": {
    "slideshow": {
     "slide_type": "fragment"
    }
   },
   "outputs": [],
   "source": [
    "n = 5\n",
    "while n > 0:\n",
    "    print(n)\n",
    "    n = n - 1\n",
    "print('Blastoff!')"
   ]
  },
  {
   "cell_type": "markdown",
   "metadata": {
    "slideshow": {
     "slide_type": "slide"
    }
   },
   "source": [
    "### Cuidado con los bucles infinitos"
   ]
  },
  {
   "cell_type": "code",
   "execution_count": null,
   "metadata": {
    "slideshow": {
     "slide_type": "fragment"
    }
   },
   "outputs": [],
   "source": [
    "#n = 10\n",
    "#while True:\n",
    "#    print(n, end=' ')\n",
    "#    n = n - 1\n",
    "#print('Done!')"
   ]
  },
  {
   "cell_type": "markdown",
   "metadata": {
    "slideshow": {
     "slide_type": "slide"
    }
   },
   "source": [
    "### Finalización de iteraciones con `continue`"
   ]
  },
  {
   "cell_type": "code",
   "execution_count": null,
   "metadata": {
    "slideshow": {
     "slide_type": "fragment"
    }
   },
   "outputs": [],
   "source": [
    "while True:\n",
    "    line = input('> ')\n",
    "    if line[0] == '#':\n",
    "        continue\n",
    "    if line == 'done':\n",
    "        break\n",
    "    print(line)\n",
    "print('Done!')\n",
    "\n",
    "# Code: http://www.py4e.com/code3/copytildone2.py\n",
    "# Or select Download from this trinket's left-hand mebnu"
   ]
  },
  {
   "cell_type": "markdown",
   "metadata": {
    "slideshow": {
     "slide_type": "slide"
    }
   },
   "source": [
    "## Bucles definidos usando `for`"
   ]
  },
  {
   "cell_type": "code",
   "execution_count": null,
   "metadata": {
    "slideshow": {
     "slide_type": "fragment"
    }
   },
   "outputs": [],
   "source": [
    "friends = ['Joseph', 'Glenn', 'Sally']\n",
    "for friend in friends:\n",
    "    print('Happy New Year:', friend)\n",
    "print('Done!')"
   ]
  },
  {
   "cell_type": "markdown",
   "metadata": {
    "slideshow": {
     "slide_type": "slide"
    }
   },
   "source": [
    "### Ejemplos"
   ]
  },
  {
   "cell_type": "code",
   "execution_count": null,
   "metadata": {
    "slideshow": {
     "slide_type": "fragment"
    }
   },
   "outputs": [],
   "source": [
    "# Bucle de suma y recuento\n",
    "\n",
    "# recuento\n",
    "count = 0\n",
    "for itervar in [3, 41, 12, 9, 74, 15]:\n",
    "    count = count + 1\n",
    "print('Count: ', count)\n",
    "\n",
    "# suma\n",
    "total = 0\n",
    "for itervar in [3, 41, 12, 9, 74, 16]:\n",
    "    total = total + itervar\n",
    "print('Total: ', total)"
   ]
  },
  {
   "cell_type": "code",
   "execution_count": null,
   "metadata": {
    "slideshow": {
     "slide_type": "slide"
    }
   },
   "outputs": [],
   "source": [
    "# Bucles máximos y mínimos\n",
    "largest = None\n",
    "print('Before:', largest)\n",
    "for itervar in [3, 41, 12, 9, 74, 15]:\n",
    "    if largest is None or itervar > largest :\n",
    "        largest = itervar\n",
    "    print('Loop:', itervar, largest)\n",
    "print('Largest:', largest)"
   ]
  },
  {
   "cell_type": "markdown",
   "metadata": {
    "slideshow": {
     "slide_type": "slide"
    }
   },
   "source": [
    "### Ejercicio 5\n",
    "\n",
    "Escribe un programa que lea números repetidamente hasta que el usuario ingrese \"listo\". Una vez que se ingrese \"listo\", imprima el total, el recuento y el promedio de los números. Si el usuario ingresa algo que no sea un número, detecta su error usando try y except e imprime un mensaje de error y salta al siguiente número.\n",
    "\n",
    "```bash\n",
    "Enter a number: 4\n",
    "Enter a number: 5\n",
    "Enter a number: bad data\n",
    "Invalid input\n",
    "Enter a number: 7\n",
    "Enter a number: done\n",
    "16 3 5.333333333333333\n",
    "```"
   ]
  },
  {
   "cell_type": "markdown",
   "metadata": {
    "slideshow": {
     "slide_type": "slide"
    }
   },
   "source": [
    "# Cadenas"
   ]
  },
  {
   "cell_type": "markdown",
   "metadata": {
    "slideshow": {
     "slide_type": "slide"
    }
   },
   "source": [
    "- Información textual. Las cadenas son una secuencia de letras.\n",
    "- El valor de la cadena se incluye entre comillas:\n",
    "\n",
    "```python\n",
    "name = 'farhad'\n",
    "```\n",
    "\n",
    "- Las cadenas son inmutables. Una vez que se crean, no se pueden cambiar."
   ]
  },
  {
   "cell_type": "code",
   "execution_count": null,
   "metadata": {
    "slideshow": {
     "slide_type": "fragment"
    }
   },
   "outputs": [],
   "source": [
    "a = 'me'\n",
    "a[1]='y'"
   ]
  },
  {
   "cell_type": "markdown",
   "metadata": {},
   "source": [
    "## Atravesar una cadena con un bucle"
   ]
  },
  {
   "cell_type": "code",
   "execution_count": null,
   "metadata": {},
   "outputs": [],
   "source": [
    "fruta = 'plátano'\n",
    "for letra in fruta:\n",
    "    print(letra)"
   ]
  },
  {
   "cell_type": "markdown",
   "metadata": {
    "slideshow": {
     "slide_type": "slide"
    }
   },
   "source": [
    "## Operaciones con cadenas\n",
    "\n",
    "- Concatenando cadenas:"
   ]
  },
  {
   "cell_type": "code",
   "execution_count": null,
   "metadata": {
    "slideshow": {
     "slide_type": "fragment"
    }
   },
   "outputs": [],
   "source": [
    "'A' + 'B'"
   ]
  },
  {
   "cell_type": "markdown",
   "metadata": {
    "slideshow": {
     "slide_type": "fragment"
    }
   },
   "source": [
    "- Repetir cadenas"
   ]
  },
  {
   "cell_type": "code",
   "execution_count": null,
   "metadata": {
    "slideshow": {
     "slide_type": "fragment"
    }
   },
   "outputs": [],
   "source": [
    "'A'* 3"
   ]
  },
  {
   "cell_type": "markdown",
   "metadata": {
    "slideshow": {
     "slide_type": "slide"
    }
   },
   "source": [
    "- Troceando cadenas (slicing)"
   ]
  },
  {
   "cell_type": "code",
   "execution_count": null,
   "metadata": {
    "slideshow": {
     "slide_type": "fragment"
    }
   },
   "outputs": [],
   "source": [
    "y = 'Abc'\n",
    "print(y[:2])\n",
    "print(y[1:])\n",
    "print(y[:-2]) # índice negativo\n",
    "print(y[-2:]) # índice negativo"
   ]
  },
  {
   "cell_type": "markdown",
   "metadata": {
    "slideshow": {
     "slide_type": "slide"
    }
   },
   "source": [
    "- Revertir el orden"
   ]
  },
  {
   "cell_type": "code",
   "execution_count": null,
   "metadata": {
    "slideshow": {
     "slide_type": "fragment"
    }
   },
   "outputs": [],
   "source": [
    "x = 'abc'\n",
    "x[::-1]"
   ]
  },
  {
   "cell_type": "markdown",
   "metadata": {
    "slideshow": {
     "slide_type": "slide"
    }
   },
   "source": [
    "- Encontrando el índice"
   ]
  },
  {
   "cell_type": "code",
   "execution_count": null,
   "metadata": {
    "slideshow": {
     "slide_type": "fragment"
    }
   },
   "outputs": [],
   "source": [
    "name = 'farhad'\n",
    "index1 = name.find('r')\n",
    "print('Index 1 es ',index1)\n",
    "\n",
    "name = 'farhad'\n",
    "index2 = name.find('a', 2) # finds index of second a\n",
    "print('Index 2 es ',index2)"
   ]
  },
  {
   "cell_type": "markdown",
   "metadata": {
    "slideshow": {
     "slide_type": "slide"
    }
   },
   "source": [
    "- split(): divide una cadena en una lista.\n",
    "- replace(): reemplaza la cadena coincidente."
   ]
  },
  {
   "cell_type": "code",
   "execution_count": null,
   "metadata": {
    "slideshow": {
     "slide_type": "fragment"
    }
   },
   "outputs": [],
   "source": [
    "texto = '2 saxofonistas tocan con 3 clarinetistas'\n",
    "texto.split()"
   ]
  },
  {
   "cell_type": "code",
   "execution_count": null,
   "metadata": {
    "slideshow": {
     "slide_type": "fragment"
    }
   },
   "outputs": [],
   "source": [
    "texto.replace('2', 'dos')"
   ]
  },
  {
   "cell_type": "markdown",
   "metadata": {
    "slideshow": {
     "slide_type": "slide"
    }
   },
   "source": [
    "## El operador `in`"
   ]
  },
  {
   "cell_type": "code",
   "execution_count": null,
   "metadata": {
    "slideshow": {
     "slide_type": "fragment"
    }
   },
   "outputs": [],
   "source": [
    "'a' in 'banana'\n",
    "True\n",
    "'seed' in 'banana'\n",
    "False"
   ]
  },
  {
   "cell_type": "markdown",
   "metadata": {
    "slideshow": {
     "slide_type": "slide"
    }
   },
   "source": [
    "## Comparación de cadenas"
   ]
  },
  {
   "cell_type": "code",
   "execution_count": null,
   "metadata": {
    "slideshow": {
     "slide_type": "fragment"
    }
   },
   "outputs": [],
   "source": [
    "word = input('Introduce una palabra: ')\n",
    "\n",
    "if word < 'banana':\n",
    "    print('Your word,' + word + ', comes before banana.')\n",
    "elif word > 'banana':\n",
    "    print('Your word,' + word + ', comes after banana.')\n",
    "else:\n",
    "    print('All right, bananas.')"
   ]
  },
  {
   "cell_type": "markdown",
   "metadata": {
    "slideshow": {
     "slide_type": "slide"
    }
   },
   "source": [
    "## Métodos de cadena"
   ]
  },
  {
   "cell_type": "code",
   "execution_count": null,
   "metadata": {
    "slideshow": {
     "slide_type": "fragment"
    }
   },
   "outputs": [],
   "source": [
    "saludo = 'Hola, mundo'\n",
    "type(saludo)\n",
    "dir(saludo)"
   ]
  },
  {
   "cell_type": "markdown",
   "metadata": {
    "slideshow": {
     "slide_type": "fragment"
    }
   },
   "source": [
    "Mientras que la función dir enumera los métodos, y puedes usar help para obtener alguna documentación simple sobre un método, una mejor fuente de documentación para los métodos de cadena sería https://docs.python.org/3.7/library/stdtypes.html#string-methods."
   ]
  },
  {
   "cell_type": "markdown",
   "metadata": {
    "slideshow": {
     "slide_type": "slide"
    }
   },
   "source": [
    "## Parseando cadenas\n",
    "\n",
    "Imagina que queremos obetener el dominio desde el que se ha enviado un mail a partir de la siguiente línea `From`:\n",
    "\n",
    "`From stephen.marquard@uct.ac.za Sat Jan 5 09:14:16 2008`"
   ]
  },
  {
   "cell_type": "code",
   "execution_count": null,
   "metadata": {
    "slideshow": {
     "slide_type": "fragment"
    }
   },
   "outputs": [],
   "source": [
    "data = 'From stephen.marquard@uct.ac.za Sat Jan  5 09:14:16 2008'\n",
    "atpos = data.find('@')\n",
    "print('La posición de la arroba es ', atpos)\n",
    "sppos = data.find(' ',atpos)\n",
    "print('La posición del espacio es ', sppos)\n",
    "host = data[atpos+1:sppos]\n",
    "print('El dominio del mail del remitente es ', host)"
   ]
  },
  {
   "cell_type": "markdown",
   "metadata": {
    "slideshow": {
     "slide_type": "slide"
    }
   },
   "source": [
    "## Operador de formato\n",
    "\n",
    "```python\n",
    ">>> camels = '42'\n",
    ">>> '%d' % camels\n",
    "42\n",
    "```\n",
    "\n",
    "En Python 3.7 ha avanzado mucho la manera de formatear cadenas. En el siguiente enlace tenéis más información.\n",
    "\n",
    "https://realpython.com/python-f-strings/"
   ]
  },
  {
   "cell_type": "markdown",
   "metadata": {
    "slideshow": {
     "slide_type": "slide"
    }
   },
   "source": [
    "### Ejercicio 6\n",
    "\n",
    "Toma el siguiente código de Python que almacena una cadena: \n",
    "\n",
    "`str = 'X-DSPAM-Confidence: 0.8475`\n",
    "\n",
    "Usa find y el corte de cadena para extraer la parte de la cadena después del caracter de dos puntos y luego use la función float para convertir la cadena extraída en un número de punto flotante."
   ]
  },
  {
   "cell_type": "code",
   "execution_count": null,
   "metadata": {
    "slideshow": {
     "slide_type": "fragment"
    }
   },
   "outputs": [],
   "source": []
  },
  {
   "cell_type": "markdown",
   "metadata": {
    "slideshow": {
     "slide_type": "slide"
    }
   },
   "source": [
    "# Archivos\n",
    "\n",
    "Haciendo persistente la información (en archivos de texto de momento)"
   ]
  },
  {
   "cell_type": "code",
   "execution_count": null,
   "metadata": {
    "slideshow": {
     "slide_type": "fragment"
    }
   },
   "outputs": [],
   "source": [
    "# Escribiendo un archivo de texto\n",
    "\n",
    "with open('prueba.txt', 'w') as file: # r para solo lectura y a para añadir al final\n",
    "     for i in range(10):\n",
    "         file.write(str(i))"
   ]
  },
  {
   "cell_type": "markdown",
   "metadata": {
    "slideshow": {
     "slide_type": "slide"
    }
   },
   "source": [
    "### Ejercicio 7\n",
    "\n",
    "Escribe un programa para leer un archivo e imprime sólo las líneas que comiencen por FROM."
   ]
  },
  {
   "cell_type": "code",
   "execution_count": null,
   "metadata": {
    "slideshow": {
     "slide_type": "fragment"
    }
   },
   "outputs": [],
   "source": []
  },
  {
   "cell_type": "markdown",
   "metadata": {
    "slideshow": {
     "slide_type": "slide"
    }
   },
   "source": [
    "# Listas\n",
    "\n",
    "Como una cadena, una lista es una secuencia de valores. En una cadena, los valores son caracteres; en una lista, pueden ser de cualquier tipo. Los valores en la lista se denominan elementos.\n",
    "Hay varias formas de crear una nueva lista; lo más simple es encerrar los elementos entre corchetes ([ y ]):\n",
    "\n",
    "```python\n",
    "[10, 20, 30, 40]\n",
    "['crunchy frog', 'ram bladder', 'lark vomit']\n",
    "```\n",
    "\n",
    "Los elementos de una lista no tienen que ser del mismo tipo. La siguiente lista contiene una cadena, un decimal, un entero y... ¡otra lista!:\n",
    "\n",
    "```python\n",
    "['spam', 2.0, 5, [10, 20]]\n",
    "```"
   ]
  },
  {
   "cell_type": "markdown",
   "metadata": {
    "slideshow": {
     "slide_type": "slide"
    }
   },
   "source": [
    "## Las listas son mutables\n",
    "\n",
    "```python\n",
    ">>> numbers = [17, 123]\n",
    ">>> numbers[1] = 5\n",
    ">>> print(numbers)\n",
    "[17, 5]\n",
    ">>>\n",
    "```"
   ]
  },
  {
   "cell_type": "markdown",
   "metadata": {
    "slideshow": {
     "slide_type": "slide"
    }
   },
   "source": [
    "## El operador `in`\n",
    "\n",
    "```python\n",
    ">>> cheeses = ['Cheddar', 'Edam', 'Gouda']\n",
    ">>> 'Edam' in cheeses\n",
    "True\n",
    ">>> 'Brie' in cheeses\n",
    "False\n",
    ">>>\n",
    "```"
   ]
  },
  {
   "cell_type": "markdown",
   "metadata": {
    "slideshow": {
     "slide_type": "slide"
    }
   },
   "source": [
    "## Atravesando una lista"
   ]
  },
  {
   "cell_type": "code",
   "execution_count": null,
   "metadata": {
    "slideshow": {
     "slide_type": "fragment"
    }
   },
   "outputs": [],
   "source": [
    "cheeses = ['Cheddar', 'Edam', 'Gouda']\n",
    "\n",
    "for cheese in cheeses:\n",
    "    print(cheese)"
   ]
  },
  {
   "cell_type": "markdown",
   "metadata": {
    "slideshow": {
     "slide_type": "slide"
    }
   },
   "source": [
    "## Operaciones de lista"
   ]
  },
  {
   "cell_type": "code",
   "execution_count": null,
   "metadata": {
    "slideshow": {
     "slide_type": "fragment"
    }
   },
   "outputs": [],
   "source": [
    "a = [1, 2, 3]\n",
    "b = [4, 5, 6]\n",
    "c = a + b\n",
    "print(c)"
   ]
  },
  {
   "cell_type": "markdown",
   "metadata": {
    "slideshow": {
     "slide_type": "fragment"
    }
   },
   "source": [
    "Del mismo modo, el operador * repite una lista un número determinado de veces:"
   ]
  },
  {
   "cell_type": "markdown",
   "metadata": {
    "slideshow": {
     "slide_type": "slide"
    }
   },
   "source": [
    "## Listar segmentos"
   ]
  },
  {
   "cell_type": "code",
   "execution_count": null,
   "metadata": {
    "slideshow": {
     "slide_type": "fragment"
    }
   },
   "outputs": [],
   "source": [
    "t = ['a', 'b', 'c', 'd', 'e', 'f']\n",
    "print(t[1:3])\n",
    "print(t[:4])\n",
    "print(t[3:])"
   ]
  },
  {
   "cell_type": "markdown",
   "metadata": {
    "slideshow": {
     "slide_type": "slide"
    }
   },
   "source": [
    "## Copiando una lista\n",
    "\n",
    "Las listas son referencias a un punto en la memoria no espacios de memoria en sí mismos."
   ]
  },
  {
   "cell_type": "code",
   "execution_count": null,
   "metadata": {
    "slideshow": {
     "slide_type": "fragment"
    }
   },
   "outputs": [],
   "source": [
    "a = t[:]"
   ]
  },
  {
   "cell_type": "markdown",
   "metadata": {
    "slideshow": {
     "slide_type": "slide"
    }
   },
   "source": [
    "## Métodos de lista"
   ]
  },
  {
   "cell_type": "code",
   "execution_count": null,
   "metadata": {
    "slideshow": {
     "slide_type": "fragment"
    }
   },
   "outputs": [],
   "source": [
    "t = ['a', 'b', 'c']\n",
    "t.append('d')\n",
    "print(t)"
   ]
  },
  {
   "cell_type": "code",
   "execution_count": null,
   "metadata": {
    "slideshow": {
     "slide_type": "fragment"
    }
   },
   "outputs": [],
   "source": [
    "t = ['a', 'b', 'c']\n",
    "t.extend(['d', 'f'])\n",
    "print(t)"
   ]
  },
  {
   "cell_type": "code",
   "execution_count": null,
   "metadata": {
    "slideshow": {
     "slide_type": "fragment"
    }
   },
   "outputs": [],
   "source": [
    "t = ['d', 'c', 'e', 'b', 'a']\n",
    "t.sort()\n",
    "print(t)"
   ]
  },
  {
   "cell_type": "markdown",
   "metadata": {
    "slideshow": {
     "slide_type": "slide"
    }
   },
   "source": [
    "## Eliminando elementos"
   ]
  },
  {
   "cell_type": "code",
   "execution_count": null,
   "metadata": {
    "slideshow": {
     "slide_type": "fragment"
    }
   },
   "outputs": [],
   "source": [
    "t = ['a', 'b', 'c']\n",
    "x = t.pop(1)\n",
    "print(t)\n",
    "print(x)"
   ]
  },
  {
   "cell_type": "markdown",
   "metadata": {
    "slideshow": {
     "slide_type": "slide"
    }
   },
   "source": [
    "Si no necesitas el valor eliminado, puede usar el operador `del`:"
   ]
  },
  {
   "cell_type": "code",
   "execution_count": null,
   "metadata": {
    "slideshow": {
     "slide_type": "fragment"
    }
   },
   "outputs": [],
   "source": [
    "t = ['a', 'b', 'c']\n",
    "del t[1]\n",
    "print(t)"
   ]
  },
  {
   "cell_type": "markdown",
   "metadata": {
    "slideshow": {
     "slide_type": "fragment"
    }
   },
   "source": [
    "Si conoces el elemento que deseas eliminar (pero no el índice), puedes usar `remove`:"
   ]
  },
  {
   "cell_type": "code",
   "execution_count": null,
   "metadata": {
    "slideshow": {
     "slide_type": "fragment"
    }
   },
   "outputs": [],
   "source": [
    "t = ['a', 'b', 'c']\n",
    "t.remove('b')\n",
    "print(t)\n",
    "\n",
    "# El valor de retorno de remove es None."
   ]
  },
  {
   "cell_type": "markdown",
   "metadata": {
    "slideshow": {
     "slide_type": "slide"
    }
   },
   "source": [
    "Para eliminar más de un elemento, puedes usar del con un índice de división:"
   ]
  },
  {
   "cell_type": "code",
   "execution_count": null,
   "metadata": {
    "slideshow": {
     "slide_type": "fragment"
    }
   },
   "outputs": [],
   "source": [
    "t = ['a', 'b', 'c', 'd', 'e', 'f']\n",
    "del t[1:5]\n",
    "print(t)"
   ]
  },
  {
   "cell_type": "markdown",
   "metadata": {
    "slideshow": {
     "slide_type": "slide"
    }
   },
   "source": [
    "## Listas y funciones\n",
    "\n",
    "Hay una serie de funciones incorporadas que se pueden usar en listas que te permiten mirar rápidamente una lista sin escribir sus propios bucles:\n",
    "\n",
    "```python\n",
    ">>> nums = [3, 41, 12, 9, 74, 15]\n",
    ">>> print(len(nums))\n",
    "6\n",
    ">>> print(max(nums))\n",
    "74\n",
    ">>> print(min(nums))\n",
    "3\n",
    ">>> print(sum(nums))\n",
    "154\n",
    ">>> print(sum(nums)/len(nums))\n",
    "25.666666666666668\n",
    "```"
   ]
  },
  {
   "cell_type": "markdown",
   "metadata": {
    "slideshow": {
     "slide_type": "slide"
    }
   },
   "source": [
    "## Listas y cadenas"
   ]
  },
  {
   "cell_type": "code",
   "execution_count": null,
   "metadata": {
    "slideshow": {
     "slide_type": "fragment"
    }
   },
   "outputs": [],
   "source": [
    "s = 'spam'\n",
    "t = list(s)\n",
    "print(t)"
   ]
  },
  {
   "cell_type": "code",
   "execution_count": null,
   "metadata": {
    "slideshow": {
     "slide_type": "fragment"
    }
   },
   "outputs": [],
   "source": [
    "s = 'pining for the fjords'\n",
    "t = s.split()\n",
    "print(t,'\\n----------')\n",
    "print(t[2])"
   ]
  },
  {
   "cell_type": "code",
   "execution_count": null,
   "metadata": {
    "slideshow": {
     "slide_type": "fragment"
    }
   },
   "outputs": [],
   "source": [
    "s = 'spam-spam-spam'\n",
    "delimiter = '-'\n",
    "s.split(delimiter)"
   ]
  },
  {
   "cell_type": "code",
   "execution_count": null,
   "metadata": {
    "slideshow": {
     "slide_type": "fragment"
    }
   },
   "outputs": [],
   "source": [
    "s = 'spam-spam-spam'\n",
    "delimiter = '-'\n",
    "s.split(delimiter)"
   ]
  },
  {
   "cell_type": "markdown",
   "metadata": {
    "slideshow": {
     "slide_type": "slide"
    }
   },
   "source": [
    "## Parseando líneas"
   ]
  },
  {
   "cell_type": "code",
   "execution_count": null,
   "metadata": {
    "slideshow": {
     "slide_type": "fragment"
    }
   },
   "outputs": [],
   "source": [
    "fhand = open('mbox-short.txt')\n",
    "for line in fhand:\n",
    "    line = line.rstrip()\n",
    "    if not line.startswith('From '): continue\n",
    "    words = line.split()\n",
    "    print(words[2])\n",
    "\n",
    "# Code: http://www.py4e.com/code3/search5.py\n",
    "# Or select Download from this trinket's left-hand menu"
   ]
  },
  {
   "cell_type": "markdown",
   "metadata": {
    "slideshow": {
     "slide_type": "slide"
    }
   },
   "source": [
    "### Ejercicio 8\n",
    "\n",
    "Escribe un programa para abrir el archivo romeo.txt y léelo línea por línea. Para cada línea, divide la línea en una lista de palabras usando la función split.\n",
    "Para cada palabra, verifica si la palabra ya está en una lista. Si la palabra no está en la lista, agrégala a la lista.\n",
    "\n",
    "Cuando se complete el programa, ordena e imprime las palabras resultantes en orden alfabético.\n",
    "\n",
    "```bash\n",
    "Enter file: romeo.txt\n",
    "\n",
    "['Arise', 'But', 'It', 'Juliet', 'Who', 'already', 'and', 'breaks', 'east', 'envious', 'fair', 'grief', 'is', 'kill', 'light', 'moon', 'pale', 'sick', 'soft', 'sun', 'the', 'through', 'what', 'window', 'with', 'yonder']\n",
    "```"
   ]
  },
  {
   "cell_type": "code",
   "execution_count": null,
   "metadata": {
    "slideshow": {
     "slide_type": "slide"
    }
   },
   "outputs": [],
   "source": []
  },
  {
   "cell_type": "markdown",
   "metadata": {
    "slideshow": {
     "slide_type": "slide"
    }
   },
   "source": [
    "# Diccionarios\n",
    "\n",
    "Un diccionario es como una lista, pero más general. En una lista, las posiciones del índice deben ser enteros. En un diccionario, los índices pueden ser (casi) de cualquier tipo.\n",
    "\n",
    "Puedes pensar en un diccionario como una asignación entre un conjunto de índices (que se denominan claves) y un conjunto de valores. Cada valor se asigna a una clave. La asociación de una clave y un valor se denomina par clave-valor o, a veces, un elemento.\n",
    "\n",
    "La función dict crea un nuevo diccionario sin elementos. Como dict es el nombre de una función incorporada, debes evitar usarla como nombre de variable.\n",
    "\n",
    "```python\n",
    "named_variable = dict()\n",
    "# También puedes crear un diccionario de la siguiente manera\n",
    "named_variable_2 = {}\n",
    "```\n",
    "\n",
    "Las llaves, {}, representan un diccionario vacío. Para agregar elementos al diccionario, puede usar corchetes:\n",
    "\n",
    "```python\n",
    " named_variable['one'] = 'uno'\n",
    "```"
   ]
  },
  {
   "cell_type": "markdown",
   "metadata": {
    "slideshow": {
     "slide_type": "slide"
    }
   },
   "source": [
    "La línea anterior línea crea un elemento que se asigna desde la clave 'one' al valor \"uno\". Si imprimimos el diccionario nuevamente, vemos un par clave-valor con dos puntos entre la clave y el valor:\n",
    "\n",
    "```python\n",
    ">>> print(named_variable)\n",
    "{'one': 'uno'}\n",
    "\n",
    ">>> eng2sp = {'one': 'uno', 'two': 'dos', 'three': 'tres'}\n",
    ">>> print(eng2sp)\n",
    "{'one': 'uno', 'three': 'tres', 'two': 'dos'}\n",
    "```\n",
    "\n",
    "La clave 'two' siempre contiene el valor \"dos\", por lo que el orden de los elementos no importa. Con los diccionarios también funcionan los operadores `len`e `in`."
   ]
  },
  {
   "cell_type": "markdown",
   "metadata": {
    "slideshow": {
     "slide_type": "slide"
    }
   },
   "source": [
    "## Diccionario como conjunto de contadores"
   ]
  },
  {
   "cell_type": "code",
   "execution_count": null,
   "metadata": {
    "slideshow": {
     "slide_type": "fragment"
    }
   },
   "outputs": [],
   "source": [
    "word = 'brontosaurus'\n",
    "d = {}\n",
    "for c in word:\n",
    "  if c not in d:\n",
    "    d[c] = 1\n",
    "  else:\n",
    "    d[c] = d[c] + 1\n",
    "print(d)"
   ]
  },
  {
   "cell_type": "markdown",
   "metadata": {
    "slideshow": {
     "slide_type": "slide"
    }
   },
   "source": [
    "## Método get\n",
    "\n",
    "Los diccionarios tienen un método llamado get que toma una clave y un valor predeterminado. Si la clave aparece en el diccionario, get devuelve el valor correspondiente; de lo contrario, devuelve el valor predeterminado. Por ejemplo:"
   ]
  },
  {
   "cell_type": "code",
   "execution_count": null,
   "metadata": {
    "slideshow": {
     "slide_type": "fragment"
    }
   },
   "outputs": [],
   "source": [
    ">>> counts = { 'chuck' : 1 , 'annie' : 42, 'jan': 100}\n",
    ">>> print(counts.get('jan', 0))"
   ]
  },
  {
   "cell_type": "code",
   "execution_count": null,
   "metadata": {
    "slideshow": {
     "slide_type": "fragment"
    }
   },
   "outputs": [],
   "source": [
    ">>> print(counts.get('tim', 0))"
   ]
  },
  {
   "cell_type": "markdown",
   "metadata": {
    "slideshow": {
     "slide_type": "slide"
    }
   },
   "source": [
    "## Diccionarios y archivos\n",
    "\n",
    "Escribiremos un programa en Python para leer las líneas del archivo, dividir cada línea en una lista de palabras y luego recorrer cada una de las palabras en la línea y contar cada palabra con un diccionario."
   ]
  },
  {
   "cell_type": "code",
   "execution_count": null,
   "metadata": {
    "slideshow": {
     "slide_type": "slide"
    }
   },
   "outputs": [],
   "source": [
    "fname = input('Enter the file name: ')\n",
    "try:\n",
    "    fhand = open(fname)\n",
    "except:\n",
    "    print('File cannot be opened:', fname)\n",
    "    exit()\n",
    "\n",
    "counts = dict()\n",
    "for line in fhand:\n",
    "    words = line.split()\n",
    "    for word in words:\n",
    "        if word not in counts:\n",
    "            counts[word] = 1\n",
    "        else:\n",
    "            counts[word] += 1\n",
    "\n",
    "print(counts)\n",
    "\n",
    "# Code: http://www.py4e.com/code3/count1.py\n",
    "# Or select Download from this trinket's left-hand menu"
   ]
  },
  {
   "cell_type": "markdown",
   "metadata": {
    "slideshow": {
     "slide_type": "slide"
    }
   },
   "source": [
    "## Bucles y diccionarios\n",
    "\n",
    "Si utilizas un diccionario como la secuencia en una instrucción for, atraviesa las claves del diccionario. Este bucle imprime cada clave y el valor correspondiente:"
   ]
  },
  {
   "cell_type": "code",
   "execution_count": null,
   "metadata": {
    "slideshow": {
     "slide_type": "fragment"
    }
   },
   "outputs": [],
   "source": [
    "counts = { 'chuck' : 1 , 'annie' : 42, 'jan': 100}\n",
    "for key in counts:\n",
    "    print(key, counts[key])"
   ]
  },
  {
   "cell_type": "markdown",
   "metadata": {
    "slideshow": {
     "slide_type": "slide"
    }
   },
   "source": [
    "Si deseas imprimir las claves en orden alfabético, primero haz una lista de las claves en el diccionario usando el método keys disponible en los objetos de tipo diccionario, y luego ordena esa lista y recorre la lista ordenada, mirando cada clave e imprimiendo pares clave-valor ordenados de la siguiente manera:"
   ]
  },
  {
   "cell_type": "code",
   "execution_count": null,
   "metadata": {
    "slideshow": {
     "slide_type": "fragment"
    }
   },
   "outputs": [],
   "source": [
    "counts = { 'chuck' : 1 , 'annie' : 42, 'jan': 100}\n",
    "lst = list(counts.keys())\n",
    "print(lst)\n",
    "lst.sort()\n",
    "for key in lst:\n",
    "    print(key, counts[key])"
   ]
  },
  {
   "cell_type": "markdown",
   "metadata": {
    "slideshow": {
     "slide_type": "slide"
    }
   },
   "source": [
    "## Análisis de texto avanzado\n",
    "\n",
    "En el ejemplo anterior usando el archivo romeo.txt, hicimos el archivo lo más simple posible eliminando toda puntuación a mano. El texto real tiene mucha puntuación, como se muestra a continuación.\n",
    "\n",
    "```\n",
    "But, soft! what light through yonder window breaks?\n",
    "It is the east, and Juliet is the sun.\n",
    "Arise, fair sun, and kill the envious moon,\n",
    "Who is already sick and pale with grief,\n",
    "```\n",
    "\n",
    "Podemos resolver ambos problemas utilizando los métodos de cadena `lower`, ` punctuation` y `translate`. `translate` es el más sutil de los métodos. Aquí está la documentación para translate:\n",
    "\n",
    "```line.translate(str.maketrans(fromstr, tostr, deletestr))```\n",
    "\n",
    "Reemplaza los caracteres en fromstr con el carácter en la misma posición en tostr y borra todos los caracteres que estén en deletestr. Fromstr y tostr pueden ser cadenas vacías y el parámetro deletestr puede omitirse."
   ]
  },
  {
   "cell_type": "code",
   "execution_count": null,
   "metadata": {
    "slideshow": {
     "slide_type": "slide"
    }
   },
   "outputs": [],
   "source": [
    ">>> import string\n",
    ">>> string.punctuation"
   ]
  },
  {
   "cell_type": "code",
   "execution_count": null,
   "metadata": {
    "slideshow": {
     "slide_type": "slide"
    }
   },
   "outputs": [],
   "source": [
    "import string\n",
    "\n",
    "fname = input('Enter the file name: ')\n",
    "try:\n",
    "    fhand = open(fname)\n",
    "except:\n",
    "    print('File cannot be opened:', fname)\n",
    "    exit()\n",
    "\n",
    "counts = dict()\n",
    "for line in fhand:\n",
    "    line = line.rstrip()\n",
    "    line = line.translate(line.maketrans('', '', string.punctuation))\n",
    "    line = line.lower()\n",
    "    words = line.split()\n",
    "    for word in words:\n",
    "        if word not in counts:\n",
    "            counts[word] = 1\n",
    "        else:\n",
    "            counts[word] += 1\n",
    "\n",
    "print(counts)"
   ]
  },
  {
   "cell_type": "markdown",
   "metadata": {
    "slideshow": {
     "slide_type": "slide"
    }
   },
   "source": [
    "### Ejercicio 9\n",
    "\n",
    "Escribe un programa que categorice cada mensaje de correo según el día de la semana en que se realizó la confirmación. Para hacer esto, busca líneas que comiencen con \"From\", luego busca la tercera palabra y manten un conteo de cada uno de los días de la semana. Al final del programa, imprime el contenido de tu diccionario (el orden no importa).\n",
    "Línea de muestra:\n",
    "\n",
    "`From stephen.marquard@uct.ac.za Sat Jan  5 09:14:16 2008`\n",
    "\n",
    "Ejecución de la muestra:\n",
    "\n",
    "```bash\n",
    "python dow.py\n",
    "Enter a file name: mbox-short.txt\n",
    "{'Fri': 20, 'Thu': 6, 'Sat': 1}\n",
    "```"
   ]
  },
  {
   "cell_type": "code",
   "execution_count": null,
   "metadata": {
    "slideshow": {
     "slide_type": "slide"
    }
   },
   "outputs": [],
   "source": []
  },
  {
   "cell_type": "markdown",
   "metadata": {
    "slideshow": {
     "slide_type": "slide"
    }
   },
   "source": [
    "# Tuplas\n",
    "\n",
    "## Las tuplas son inmutables\n",
    "\n",
    "Una tupla1 es una secuencia de valores muy parecida a una lista. Los valores almacenados en una tupla pueden ser de cualquier tipo, y están indexados por enteros. La diferencia importante es que las tuplas son inmutables. Las tuplas también son comparables y hashables, por lo que podemos ordenar las listas y usar tuplas como valores en los diccionarios de Python.\n",
    "\n",
    "Aunque no es necesario, es común incluir tuplas entre paréntesis para ayudarnos a identificar tuplas rápidamente cuando observamos el código de Python:\n",
    "\n",
    "```python\n",
    "t = ('a', 'b', 'c', 'd', 'e')\n",
    "```"
   ]
  },
  {
   "cell_type": "code",
   "execution_count": null,
   "metadata": {
    "slideshow": {
     "slide_type": "slide"
    }
   },
   "outputs": [],
   "source": [
    ">>> t = tuple('lupins')\n",
    ">>> print(t)"
   ]
  },
  {
   "cell_type": "code",
   "execution_count": null,
   "metadata": {
    "slideshow": {
     "slide_type": "fragment"
    }
   },
   "outputs": [],
   "source": [
    ">>> t = tuple('lupins')\n",
    ">>> print(t)"
   ]
  },
  {
   "cell_type": "markdown",
   "metadata": {
    "slideshow": {
     "slide_type": "slide"
    }
   },
   "source": [
    "## ¿Qué hace este código?"
   ]
  },
  {
   "cell_type": "code",
   "execution_count": null,
   "metadata": {
    "slideshow": {
     "slide_type": "fragment"
    }
   },
   "outputs": [],
   "source": [
    "txt = 'but soft what light in yonder window breaks'\n",
    "words = txt.split()\n",
    "t = list()\n",
    "for word in words:\n",
    "    t.append((len(word), word))\n",
    "\n",
    "t.sort(reverse=True)\n",
    "\n",
    "res = list()\n",
    "for length, word in t:\n",
    "    res.append(word)\n",
    "\n",
    "print(res)\n",
    "\n",
    "# Code: http://www.py4e.com/code3/soft.py"
   ]
  },
  {
   "cell_type": "markdown",
   "metadata": {
    "slideshow": {
     "slide_type": "slide"
    }
   },
   "source": [
    "## Asignación rápida de valores"
   ]
  },
  {
   "cell_type": "code",
   "execution_count": null,
   "metadata": {
    "slideshow": {
     "slide_type": "fragment"
    }
   },
   "outputs": [],
   "source": [
    "m = ('cero', 'uno')\n",
    "x, y = m\n",
    "print('x es igual a', x)\n",
    "print('y es igual a', y)"
   ]
  },
  {
   "cell_type": "markdown",
   "metadata": {
    "slideshow": {
     "slide_type": "fragment"
    }
   },
   "source": [
    "## Swapping de valores (intercambiando valores)"
   ]
  },
  {
   "cell_type": "code",
   "execution_count": null,
   "metadata": {
    "slideshow": {
     "slide_type": "fragment"
    }
   },
   "outputs": [],
   "source": [
    "x, y = y, x\n",
    "print('x es igual a', x)\n",
    "print('y es igual a', y)"
   ]
  },
  {
   "cell_type": "code",
   "execution_count": null,
   "metadata": {
    "slideshow": {
     "slide_type": "fragment"
    }
   },
   "outputs": [],
   "source": [
    "addr = 'monty@python.org'\n",
    "uname, domain = addr.split('@')\n",
    "print('El usuario es {}, escribiendo desde el dominio {}'.format(uname, domain))"
   ]
  },
  {
   "cell_type": "markdown",
   "metadata": {
    "slideshow": {
     "slide_type": "slide"
    }
   },
   "source": [
    "## Diccionarios y tuplas\n",
    "\n",
    "Los diccionarios tienen un método llamado items que devuelve una lista de tuplas, donde cada tupla es un par clave-valor:"
   ]
  },
  {
   "cell_type": "code",
   "execution_count": null,
   "metadata": {
    "slideshow": {
     "slide_type": "fragment"
    }
   },
   "outputs": [],
   "source": [
    "d = {'a':10, 'b':1, 'c':22}\n",
    "t = list(d.items())\n",
    "print(t)"
   ]
  },
  {
   "cell_type": "markdown",
   "metadata": {
    "slideshow": {
     "slide_type": "slide"
    }
   },
   "source": [
    "### Asignación múltiple con diccionarios\n",
    "\n",
    "Combinando items, asignación de tuplas y for, puedes ver un bonito patrón de código para recorrer las claves y los valores de un diccionario en un solo bucle:"
   ]
  },
  {
   "cell_type": "code",
   "execution_count": null,
   "metadata": {
    "slideshow": {
     "slide_type": "fragment"
    }
   },
   "outputs": [],
   "source": [
    "d = {'a':10, 'b':1, 'c':22}\n",
    "l = list()\n",
    "for key, val in d.items() :\n",
    "    l.append((val, key))\n",
    "\n",
    "print(l)\n",
    "\n",
    "l.sort(reverse=True)\n",
    "\n",
    "print(l)"
   ]
  },
  {
   "cell_type": "markdown",
   "metadata": {
    "slideshow": {
     "slide_type": "slide"
    }
   },
   "source": [
    "### Gracias a las tuplas ordenamos diccionarios"
   ]
  },
  {
   "cell_type": "code",
   "execution_count": null,
   "metadata": {
    "slideshow": {
     "slide_type": "fragment"
    }
   },
   "outputs": [],
   "source": [
    "import string\n",
    "fhand = open('romeo-full.txt')\n",
    "counts = dict()\n",
    "for line in fhand:\n",
    "    line = line.translate(str.maketrans('', '', string.punctuation))\n",
    "    line = line.lower()\n",
    "    words = line.split()\n",
    "    for word in words:\n",
    "        if word not in counts:\n",
    "            counts[word] = 1\n",
    "        else:\n",
    "            counts[word] += 1\n",
    "\n",
    "# Sort the dictionary by value\n",
    "lst = list()\n",
    "for key, val in list(counts.items()):\n",
    "    lst.append((val, key))\n",
    "\n",
    "lst.sort(reverse=True)\n",
    "\n",
    "for key, val in lst[:10]:\n",
    "    print(key, val)"
   ]
  },
  {
   "cell_type": "markdown",
   "metadata": {
    "slideshow": {
     "slide_type": "slide"
    }
   },
   "source": [
    "### Ejercicio 10\n",
    "\n",
    "Revisa tu programa anterior de la siguiente manera: Lee y analiza las líneas \"From\" y saca el día de la semana de la línea. Cuenta el número de mensajes para cada día usando un diccionario.\n",
    "\n",
    "Después de haber leído todos los datos, imprime el día con el mayor número de confirmaciones creando una lista de tuplas (conteo, correo electrónico) del diccionario. Luego, ordena la lista en orden inverso e imprime el día en el que se envían más mensajes."
   ]
  },
  {
   "cell_type": "code",
   "execution_count": null,
   "metadata": {
    "slideshow": {
     "slide_type": "slide"
    }
   },
   "outputs": [],
   "source": []
  },
  {
   "cell_type": "markdown",
   "metadata": {
    "slideshow": {
     "slide_type": "slide"
    }
   },
   "source": [
    "# Objetos\n",
    "\n",
    "Son abstracciones que creamos para organizar la resolución de un problema o representar la realidad con la que queremos trabajar. Nos ayudan a segmentar un problema y a ocultar la complejidad, distribuyéndola por capas."
   ]
  },
  {
   "cell_type": "code",
   "execution_count": null,
   "metadata": {
    "slideshow": {
     "slide_type": "fragment"
    }
   },
   "outputs": [],
   "source": [
    "class Gallo():\n",
    "    def __init__(self, color, raza):\n",
    "        self.patas = 2 # atributo\n",
    "        self.cresta = 1  # atributo\n",
    "        self.color = color # atributo\n",
    "        self.raza = raza   # atributo: Menorca o Houdan\n",
    "        \n",
    "    def cacarea_y_saluda(self, name):\n",
    "        print('Kikirikí,', name)\n",
    "        \n",
    "gallo_1 = Gallo('blanco', 'Menorca')\n",
    "gallo_1.cacarea_y_saluda('Jesús')"
   ]
  },
  {
   "cell_type": "code",
   "execution_count": null,
   "metadata": {
    "slideshow": {
     "slide_type": "fragment"
    }
   },
   "outputs": [],
   "source": [
    "type(gallo_1)"
   ]
  },
  {
   "cell_type": "code",
   "execution_count": null,
   "metadata": {
    "slideshow": {
     "slide_type": "fragment"
    }
   },
   "outputs": [],
   "source": [
    "dir(gallo_1)"
   ]
  },
  {
   "cell_type": "markdown",
   "metadata": {
    "slideshow": {
     "slide_type": "slide"
    }
   },
   "source": [
    "# Usos de Python"
   ]
  },
  {
   "cell_type": "markdown",
   "metadata": {
    "slideshow": {
     "slide_type": "fragment"
    }
   },
   "source": [
    "## Web Scraping\n",
    "\n",
    "* No lo muestro con orgullo, pero [aquí](https://github.com/catedu/exeLearning_toGitbook) tenéis una muestra de su uso como programador pincipiante.\n",
    "* [Aquí](https://github.com/deleyva/automatiza-tu-aprendizaje/blob/master/scrap.py) tenéis otro ejemplo con el que he traducido y reformateado el curso de Python for Everybody."
   ]
  },
  {
   "cell_type": "markdown",
   "metadata": {
    "slideshow": {
     "slide_type": "slide"
    }
   },
   "source": [
    "### Otro ejemplo de web-scraping usnando pandas"
   ]
  },
  {
   "cell_type": "code",
   "execution_count": null,
   "metadata": {
    "slideshow": {
     "slide_type": "fragment"
    }
   },
   "outputs": [],
   "source": [
    "import pandas as pd\n",
    "import requests\n",
    "from bs4 import *\n",
    "from csv import reader\n",
    "import re\n",
    "\n",
    "df = pd.read_html('http://arablogs.catedu.es/buscar.php')[0]"
   ]
  },
  {
   "cell_type": "code",
   "execution_count": null,
   "metadata": {
    "slideshow": {
     "slide_type": "fragment"
    }
   },
   "outputs": [],
   "source": [
    "df.head()"
   ]
  },
  {
   "cell_type": "code",
   "execution_count": null,
   "metadata": {
    "slideshow": {
     "slide_type": "fragment"
    }
   },
   "outputs": [],
   "source": [
    "with open('bolgs.csv', 'w'):\n",
    "    dfs.to_csv('bolgs.csv')"
   ]
  },
  {
   "cell_type": "markdown",
   "metadata": {
    "slideshow": {
     "slide_type": "slide"
    }
   },
   "source": [
    "### Ejercicio 11\n",
    "\n",
    "En esta tarea, escribirás un programa en Python que se expande en http://www.py4e.com/code3/urllinks.py. El programa utilizará urllib para leer el HTML de los archivos de datos a continuación, extraer los valores de href= de las etiquetas de anclaje, buscar una etiqueta que se encuentre en una posición particular en relación con el primer nombre en la lista, seguir ese enlace y repetir el proceso varias veces, informando del último nombre que encuentre.\n",
    "\n",
    "Comienca en http://py4e-data.dr-chuck.net/known_by_Fikret.html. Encuentra el enlace en la posición 3 (el primer nombre es 1). Sigue ese enlace. Repite este proceso 4 veces. La respuesta es el último nombre que recuperas. Secuencia de nombres: Fikret Montgomery Mhairade Butchi Anayah. Último nombre en la secuencia: Anayah"
   ]
  },
  {
   "cell_type": "code",
   "execution_count": null,
   "metadata": {
    "slideshow": {
     "slide_type": "slide"
    }
   },
   "outputs": [],
   "source": []
  },
  {
   "cell_type": "markdown",
   "metadata": {
    "slideshow": {
     "slide_type": "slide"
    }
   },
   "source": [
    "## Servicios Web"
   ]
  },
  {
   "cell_type": "code",
   "execution_count": null,
   "metadata": {
    "slideshow": {
     "slide_type": "slide"
    }
   },
   "outputs": [],
   "source": [
    "import requests\n",
    "import json\n",
    "\n",
    "r = requests.get('https://es.wallapop.com/rest/items?_p=1&dist=400&publishDate=any&orderBy=distance&orderType=asc&latitude=41.65&longitude=-0.88333')\n",
    "data = json.loads(r.text)\n",
    "data"
   ]
  },
  {
   "cell_type": "markdown",
   "metadata": {
    "slideshow": {
     "slide_type": "slide"
    }
   },
   "source": [
    "## Análisis de datos"
   ]
  },
  {
   "cell_type": "code",
   "execution_count": null,
   "metadata": {
    "slideshow": {
     "slide_type": "fragment"
    }
   },
   "outputs": [],
   "source": [
    "df_wallapop = pd.DataFrame(data)\n",
    "df_wallapop['items'][0].keys()"
   ]
  },
  {
   "cell_type": "code",
   "execution_count": null,
   "metadata": {
    "slideshow": {
     "slide_type": "slide"
    }
   },
   "outputs": [],
   "source": [
    "titulos = pd.Series([x['title'] for x in df_wallapop['items']]).rename('titulos')\n",
    "precios = pd.Series([x['salePrice'] for x in df_wallapop['items']]).rename('precios')\n",
    "des_precios = pd.concat([titulos, precios], axis=1)\n",
    "des_precios"
   ]
  },
  {
   "cell_type": "code",
   "execution_count": null,
   "metadata": {
    "slideshow": {
     "slide_type": "slide"
    }
   },
   "outputs": [],
   "source": [
    "%matplotlib inline\n",
    "des_precios['precios'].plot.box()"
   ]
  },
  {
   "cell_type": "code",
   "execution_count": null,
   "metadata": {
    "slideshow": {
     "slide_type": "slide"
    }
   },
   "outputs": [],
   "source": [
    "des_precios[des_precios['precios'] < 50].plot.box()"
   ]
  },
  {
   "cell_type": "code",
   "execution_count": null,
   "metadata": {
    "slideshow": {
     "slide_type": "slide"
    }
   },
   "outputs": [],
   "source": [
    "des_precios[des_precios['precios'] < 50]"
   ]
  },
  {
   "cell_type": "code",
   "execution_count": null,
   "metadata": {
    "slideshow": {
     "slide_type": "slide"
    }
   },
   "outputs": [],
   "source": [
    "import qgrid\n",
    "qgrid_widget = qgrid.show_grid(df_wallapop, show_toolbar=True)\n",
    "qgrid_widget"
   ]
  },
  {
   "cell_type": "markdown",
   "metadata": {
    "slideshow": {
     "slide_type": "slide"
    }
   },
   "source": [
    "## Procesamiento del lenguaje natural\n",
    "\n",
    "\n",
    "- [Ejemplos simples con antónimos](https://likegeeks.com/es/tutorial-de-nlp-con-python-nltk/)"
   ]
  },
  {
   "cell_type": "code",
   "execution_count": null,
   "metadata": {
    "scrolled": true,
    "slideshow": {
     "slide_type": "fragment"
    }
   },
   "outputs": [],
   "source": [
    "import nltk\n",
    "from nltk.tokenize import sent_tokenize\n",
    "nltk.download('punkt')\n",
    "\n",
    "mytext = \"Hello Adam, how are you? I hope everything is going well. Today is a good day, see you dude.\"\n",
    " \n",
    "print(sent_tokenize(mytext))"
   ]
  },
  {
   "cell_type": "code",
   "execution_count": null,
   "metadata": {
    "slideshow": {
     "slide_type": "slide"
    }
   },
   "outputs": [],
   "source": [
    "from nltk.corpus import wordnet\n",
    "nltk.download('wordnet')\n",
    "\n",
    "synonyms = []\n",
    " \n",
    "for syn in wordnet.synsets('computer'):\n",
    " \n",
    "    for lemma in syn.lemmas():\n",
    " \n",
    "        synonyms.append(lemma.name())\n",
    " \n",
    "print(synonyms)"
   ]
  },
  {
   "cell_type": "markdown",
   "metadata": {
    "slideshow": {
     "slide_type": "slide"
    }
   },
   "source": [
    "## Inteligencia artificial\n",
    "\n",
    "... cuando lo entienda te lo cuento. De momento:"
   ]
  },
  {
   "cell_type": "code",
   "execution_count": null,
   "metadata": {
    "slideshow": {
     "slide_type": "slide"
    }
   },
   "outputs": [],
   "source": [
    "from IPython.display import YouTubeVideo\n",
    "YouTubeVideo('mJeNghZXtMo', width=800, height=300)"
   ]
  },
  {
   "cell_type": "markdown",
   "metadata": {
    "slideshow": {
     "slide_type": "fragment"
    }
   },
   "source": [
    "### Ejemplos con música\n",
    "\n",
    "* [Machine Learning haciendo música](https://colab.research.google.com/drive/1s6W7iINjj3MAfVWc3wpVlPyGq8TuzWH9)"
   ]
  },
  {
   "cell_type": "markdown",
   "metadata": {
    "slideshow": {
     "slide_type": "slide"
    }
   },
   "source": [
    "## Automatización tareas\n",
    "\n",
    "- [Libro automatiza](https://automatetheboringstuff.com/)"
   ]
  },
  {
   "cell_type": "code",
   "execution_count": null,
   "metadata": {
    "slideshow": {
     "slide_type": "fragment"
    }
   },
   "outputs": [],
   "source": [
    "import pyautogui\n",
    "screenWidth, screenHeight = pyautogui.size()\n",
    "currentMouseX, currentMouseY = pyautogui.position()\n",
    "pyautogui.moveTo(100, 150)\n",
    "pyautogui.click()\n",
    "# pyautogui.moveRel(None, 10)  # move mouse 10 pixels down\n",
    "# pyautogui.doubleClick()\n",
    "# pyautogui.moveTo(500, 500, duration=2, tween=pyautogui.easeInOutQuad)  # use tweening/easing function to move mouse over 2 seconds.\n",
    "# pyautogui.typewrite('Hello world!', interval=0.25)  # type with quarter-second pause in between each key\n",
    "# pyautogui.press('esc')\n",
    "# pyautogui.keyDown('shift')\n",
    "# pyautogui.press(['left', 'left', 'left', 'left', 'left', 'left'])\n",
    "# pyautogui.keyUp('shift')\n",
    "# pyautogui.hotkey('ctrl', 'c')"
   ]
  },
  {
   "cell_type": "markdown",
   "metadata": {
    "slideshow": {
     "slide_type": "slide"
    }
   },
   "source": [
    "## Desarrollo de aplicaciones\n",
    "\n",
    "- Web: [Django](https://www.djangoproject.com/). Muy interesante [Wagtail](https://wagtail.io/) y [Coderedcms](https://docs.coderedcorp.com/cms/stable/getting_started/install.html)\n",
    "- De escritorio: [Tkinter](https://likegeeks.com/es/ejemplos-de-la-gui-de-python/) o [Gooey](https://pypi.org/project/Gooey/)\n",
    "\n",
    "```python\n",
    "# EXAMPLE OF CODEREDCMS\n",
    "# in a Python 3 virtual environment\n",
    "pip install coderedcms\n",
    "coderedcms start mysite\n",
    "cd mysite\n",
    "python manage.py migrate\n",
    "python manage.py createsuperuser\n",
    "python manage.py runserver\n",
    "```"
   ]
  },
  {
   "cell_type": "markdown",
   "metadata": {
    "slideshow": {
     "slide_type": "slide"
    }
   },
   "source": [
    "## Aplicación en otros campos\n",
    "\n",
    "* [Ciencias sociales: recreación de la visualización del Gapminder dataset](https://colab.research.google.com/drive/1MucxxfaLjmqnjYg4-qy8C8piVFzw757I)"
   ]
  },
  {
   "cell_type": "markdown",
   "metadata": {
    "slideshow": {
     "slide_type": "slide"
    }
   },
   "source": [
    "## Internet of Things\n",
    "\n",
    "- Python y microbit. [Web](https://python.microbit.org/v/1.1) y [documentación](https://microbit-micropython.readthedocs.io/en/v1.0.1/tutorials/introduction.html). Sólo uno de los muchos ejemplos."
   ]
  },
  {
   "cell_type": "markdown",
   "metadata": {
    "slideshow": {
     "slide_type": "slide"
    }
   },
   "source": [
    "# Enlaces de interés\n",
    "\n",
    "* [Para testear expresiones regulares](https://regex101.com/)\n",
    "* [Tutorial interesante de Web-Scraping](https://www.dataquest.io/blog/web-scraping-beautifulsoup/)\n",
    "\n",
    "## Podcasts\n",
    "\n",
    "* [Python Bytes](https://pythonbytes.fm/)\n",
    "* [Talk Python to me](https://talkpython.fm/)\n",
    "* [Programar es una mierda](https://www.ivoox.com/podcast-programar-es-mierda_sq_f1432444_1.html)\n",
    "\n",
    "## Plataformas de aprendizaje online\n",
    "\n",
    "* [Edx](https://www.edx.org/es)\n",
    "* [Coursera](https://www.coursera.org/)\n",
    "* [Miriadax](https://miriadax.net/home)\n",
    "* [DataCamp](https://www.datacamp.com/)\n",
    "* [Dataquests.io](https://www.dataquest.io/)\n",
    "* [Khanacademy](https://es.khanacademy.org/)\n",
    "* [Scoth.io](https://scotch.io/)\n",
    "* [PluralSight](https://www.pluralsight.com/)\n",
    "* [Egghead.io](https://egghead.io/)\n",
    "* [Code.org](https://code.org/)\n",
    "* [Kaggle](https://www.kaggle.com/)\n",
    "* [codeacademy](https://www.codecademy.com/es)\n",
    "* [Codepen para aprender desarrollo web](https://codepen.io/)\n",
    "* [Freecodecamp](https://www.freecodecamp.org/)\n",
    "* [Microsoft Virtual Academy](https://mva.microsoft.com/)\n",
    "* [Learnenough.com](https://www.learnenough.com/)\n",
    "\n",
    "## Cursos interesantes\n",
    "\n",
    "* [Aprendiendo a aprender](https://es.coursera.org/learn/aprendiendo-a-aprender)\n",
    "* [cs50 de Harvard](https://www.edx.org/es/course/cs50s-introduction-computer-science-harvardx-cs50x)\n",
    "* [Python for Everybody](https://es.coursera.org/specializations/python)\n",
    "* [Introducción a Python](https://www.datacamp.com/courses/intro-to-python-for-data-science)\n",
    "* [Intro a Python en CodeAcademy](https://www.codecademy.com/learn/learn-python)\n",
    "\n",
    "## Herramientas útiles\n",
    "\n",
    "* [Diigo](https://www.diigo.com/)\n",
    "* [Pocket](https://getpocket.com/)\n",
    "* [Medium](https://medium.com/)\n",
    "* [Anki](https://apps.ankiweb.net/)\n",
    "* [Feedly](https://feedly.com/)\n",
    "* [TTS](https://www.texttomp3.online/) Hay muchas, esta es sólo un ejemplo.\n",
    "  \n",
    "## Librerías\n",
    "\n",
    "* [Bokeh](https://bokeh.pydata.org/en/latest/)\n",
    "* [Jupyter](https://bokeh.pydata.org/en/latest/)\n",
    "* [Numpy](http://www.numpy.org/)\n",
    "* [Pandas](https://pandas.pydata.org/)\n"
   ]
  },
  {
   "cell_type": "markdown",
   "metadata": {
    "slideshow": {
     "slide_type": "slide"
    }
   },
   "source": [
    "## ¿Cómo busco librerías de interés?\n",
    "\n",
    "Github es actualmente la mayor comunidad de código abierto. Son muy interesantes las listas 'awesome'. Escribe `awesome <lo que sea> github` en google y verás."
   ]
  },
  {
   "cell_type": "markdown",
   "metadata": {
    "slideshow": {
     "slide_type": "slide"
    }
   },
   "source": [
    "# Repasamos lo aprendido\n",
    "\n",
    "- [Kahoot!](https://kahoot.it)"
   ]
  }
 ],
 "metadata": {
  "hide_input": false,
  "kernelspec": {
   "display_name": "Python 3",
   "language": "python",
   "name": "python3"
  },
  "language_info": {
   "codemirror_mode": {
    "name": "ipython",
    "version": 3
   },
   "file_extension": ".py",
   "mimetype": "text/x-python",
   "name": "python",
   "nbconvert_exporter": "python",
   "pygments_lexer": "ipython3",
   "version": "3.6.7"
  },
  "nbTranslate": {
   "displayLangs": [
    "es",
    "en"
   ],
   "hotkey": "alt-t",
   "langInMainMenu": true,
   "sourceLang": "es",
   "targetLang": "en",
   "useGoogleTranslate": true
  },
  "rise": {
   "enable_chalkboard": true,
   "height": "100%",
   "theme": "solarized",
   "width": "100%"
  },
  "toc": {
   "base_numbering": 1,
   "nav_menu": {
    "height": "424px",
    "width": "312px"
   },
   "number_sections": true,
   "sideBar": true,
   "skip_h1_title": false,
   "title_cell": "Table of Contents",
   "title_sidebar": "Contenidos",
   "toc_cell": false,
   "toc_position": {
    "height": "834px",
    "left": "41px",
    "top": "110.5px",
    "width": "311px"
   },
   "toc_section_display": true,
   "toc_window_display": true
  },
  "varInspector": {
   "cols": {
    "lenName": 16,
    "lenType": 16,
    "lenVar": 40
   },
   "kernels_config": {
    "python": {
     "delete_cmd_postfix": "",
     "delete_cmd_prefix": "del ",
     "library": "var_list.py",
     "varRefreshCmd": "print(var_dic_list())"
    },
    "r": {
     "delete_cmd_postfix": ") ",
     "delete_cmd_prefix": "rm(",
     "library": "var_list.r",
     "varRefreshCmd": "cat(var_dic_list()) "
    }
   },
   "types_to_exclude": [
    "module",
    "function",
    "builtin_function_or_method",
    "instance",
    "_Feature"
   ],
   "window_display": false
  }
 },
 "nbformat": 4,
 "nbformat_minor": 2
}
